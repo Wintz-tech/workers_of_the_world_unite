{
 "cells": [
  {
   "cell_type": "code",
   "execution_count": 2,
   "metadata": {},
   "outputs": [],
   "source": [
    "import ipywidgets as widgets\n",
    "import matplotlib.pyplot as plt\n",
    "import numpy as np\n",
    "from IPython.display import display"
   ]
  },
  {
   "cell_type": "code",
   "execution_count": 3,
   "metadata": {},
   "outputs": [
    {
     "data": {
      "application/vnd.jupyter.widget-view+json": {
       "model_id": "12561423d8214a789d260bce39ef64ea",
       "version_major": 2,
       "version_minor": 0
      },
      "text/plain": [
       "interactive(children=(FloatSlider(value=1.0, continuous_update=False, description='x_pos :', max=10.0, step=0.…"
      ]
     },
     "metadata": {},
     "output_type": "display_data"
    }
   ],
   "source": [
    "def f(x_pos, y_pos, z_pos, Time, Normal) :\n",
    "    return x_pos, y_pos, z_pos, Time, Normal\n",
    "\n",
    "# Widget for the choice of x_pos\n",
    "x_pos = widgets.FloatSlider(value=1.0, min=0, max=10, step=0.01, description='x_pos :',\n",
    "    disabled=False, continuous_update=False, orientation='horizontal', readout=True, readout_format='.2f')\n",
    "\n",
    "# Widget for the choice of y_pos\n",
    "y_pos = widgets.FloatSlider(value=1.0, min=0, max=10, step=0.01, description='y_pos :',\n",
    "    disabled=False, continuous_update=False, orientation='horizontal', readout=True, readout_format='.2f')\n",
    "\n",
    "# Widget for the choice of z_pos\n",
    "z_pos = widgets.FloatSlider(value=1.0, min=0, max=10, step=0.01, description='z_pos :',\n",
    "    disabled=False, continuous_update=False, orientation='horizontal', readout=True, readout_format='.2f')\n",
    "\n",
    "# Widget to choose the time\n",
    "Time_choice = widgets.Combobox(placeholder='Type the wanted time, between 0 and 1000', description='Time: ', \n",
    "                               disabled=False)\n",
    "\n",
    "# Widget to choose the normal : x, y or z\n",
    "Normal_choice = widgets.Dropdown(options=[[1, 0, 0], [0, 1, 0], [0, 0, 1]], value=[1, 0, 0], description='Normal :'\n",
    "                                 , disabled=False)\n",
    "\n",
    "widgets.interactive(f, x_pos=x_pos, y_pos=y_pos, z_pos=z_pos,Time=Time_choice, Normal=Normal_choice)"
   ]
  },
  {
   "cell_type": "code",
   "execution_count": 4,
   "metadata": {},
   "outputs": [
    {
     "data": {
      "application/vnd.jupyter.widget-view+json": {
       "model_id": "b330c886ec244d04919f1a002ac54ee5",
       "version_major": 2,
       "version_minor": 0
      },
      "text/plain": [
       "interactive(children=(Checkbox(value=False, description='Mesh'), Checkbox(value=False, description='Velocity c…"
      ]
     },
     "metadata": {},
     "output_type": "display_data"
    }
   ],
   "source": [
    "def visible(a, b, c, d) :\n",
    "    if a == True :\n",
    "        # Draw the mesh\n",
    "        plt.figure(\"Mesh\")\n",
    "        plt.gca().set_aspect('equal')\n",
    "        plt.xlabel(r'$y$')\n",
    "        plt.ylabel(r'$z$')\n",
    "        plt.title(r\"Mesh at $x=$\" + str(x_pos.value))\n",
    "        plt.grid(linestyle=':')\n",
    "        \n",
    "    if b == True :\n",
    "        # Draw the velocity contour with mesh\n",
    "        plt.figure(\"Velocity\")\n",
    "        plt.gca().set_aspect('equal')\n",
    "        plt.xlabel(r'$y$')\n",
    "        plt.ylabel(r'$z$')\n",
    "        plt.title(r\"Velocity contours at $x=$\" + str(x_pos.value))\n",
    "        plt.grid(linestyle=':')\n",
    "        #plt.axis( [0.1, 1, 0, 0.5] )\n",
    "    \n",
    "    if c == True :\n",
    "        # Draw the kinematic pressure contour with mesh\n",
    "        plt.figure(\"Pressure\")\n",
    "        plt.gca().set_aspect('equal')\n",
    "        plt.xlabel(r'$y$')\n",
    "        plt.ylabel(r'$z$')\n",
    "        plt.title(r\"Kinematic pressure at $x=$\" + str(x_pos.value))\n",
    "        plt.grid(linestyle=':')\n",
    "    \n",
    "    if d == True :\n",
    "        # Draw the velocity vector field\n",
    "        plt.figure(\"Velocity Vectors\")\n",
    "        plt.gca().set_aspect('equal')\n",
    "        plt.xlabel(r'$y$')\n",
    "        plt.ylabel(r'$z$')\n",
    "        plt.title(r\"Velocity vectors at $x=$\" + str(x_pos.value))\n",
    "        plt.grid(linestyle=':')\n",
    "\n",
    "see_mesh = widgets.Checkbox(value=False, description='Mesh', disabled=False)\n",
    "see_Vcontour = widgets.Checkbox(value=False, description='Velocity contour', disabled=False)\n",
    "see_Pcontour = widgets.Checkbox(value=False, description='Pressure contour', disabled=False)\n",
    "see_Vvectors = widgets.Checkbox(value=False, description='Velocity vectors', disabled=False)\n",
    "\n",
    "widgets.interactive(visible, a=see_mesh, b=see_Vcontour, c=see_Pcontour, d=see_Vvectors)"
   ]
  },
  {
   "cell_type": "code",
   "execution_count": 5,
   "metadata": {},
   "outputs": [],
   "source": [
    "def cart2pol(x, y):\n",
    "    \"\"\"Compute the Polar coordinates r, theta\n",
    "    given the Cartesian coordinates x and y\n",
    "\n",
    "    Parameters\n",
    "    ----------\n",
    "    x and y Cartesian coordinates\n",
    "\n",
    "    Return\n",
    "    ------\n",
    "    r and theta polar coordinates\n",
    "    \"\"\"\n",
    "    r = np.sqrt(x**2+y**2)\n",
    "    theta = np.arctan2(y, x)\n",
    "    return r, theta\n",
    "\n",
    "\n",
    "def cart2sph(x, y, z):\n",
    "    \"\"\"Compute the Spherical coordinates r, el, az\n",
    "    given the Cartesian coordinates x and y\n",
    "\n",
    "    Parameters\n",
    "    ----------\n",
    "    x, y and z Cartesian coordinates\n",
    "\n",
    "    Return\n",
    "    ------\n",
    "    az, el and r Spherical coordinates\n",
    "    \"\"\"\n",
    "    hxy = np.hypot(x, y)\n",
    "    r = np.hypot(hxy, z)\n",
    "    el = np.arctan2(z, hxy)\n",
    "    az = np.arctan2(y, x)\n",
    "    return az, el, r"
   ]
  },
  {
   "cell_type": "code",
   "execution_count": 6,
   "metadata": {},
   "outputs": [
    {
     "data": {
      "application/vnd.jupyter.widget-view+json": {
       "model_id": "13736a0b483b4bde8bc4499b7f73418d",
       "version_major": 2,
       "version_minor": 0
      },
      "text/plain": [
       "interactive(children=(Dropdown(description='Repère :', options=('Cartésien', 'Cylindrique', 'Sphérique'), valu…"
      ]
     },
     "metadata": {},
     "output_type": "display_data"
    }
   ],
   "source": [
    "# Define the repere in which we want to work, and the direction in which the PlotOverLine will be ploted\n",
    "# Set also the coordinates in the cartesian repere (coordinates will be changed according to your repere chosen lately)\n",
    "def g(repere, direction, coord11, coord12, coord21, coord22, coord31, coord32):\n",
    "    return repere, direction, coord11, coord12, coord21, coord22, coord31, coord32\n",
    "\n",
    "repere_choice = widgets.Dropdown(\n",
    "    options=['Cartésien', 'Cylindrique', 'Sphérique'],\n",
    "    value='Cartésien',\n",
    "    description='Repère :',\n",
    "    disabled=False,\n",
    ")\n",
    "\n",
    "direction_choice = widgets.Dropdown(\n",
    "    options=['First coordinate', 'Second coordinate', 'Third coordinate'],\n",
    "    value='First coordinate',\n",
    "    description='Direction :',\n",
    "    disabled=False,\n",
    ")\n",
    "\n",
    "coord11 = widgets.FloatSlider(value=7.5,\n",
    "    min=0, \n",
    "    max=10.0, \n",
    "    step=0.1, \n",
    "    description='X1 :', \n",
    "    disabled=False, \n",
    "    continuous_update=False, \n",
    "    orientation='horizontal',\n",
    "    readout=True,\n",
    "    readout_format='.1f',\n",
    ")\n",
    "\n",
    "coord12 = widgets.FloatSlider(\n",
    "    value=7.5,\n",
    "    min=0,\n",
    "    max=10.0,\n",
    "    step=0.1,\n",
    "    description='X2 :',\n",
    "    disabled=False,\n",
    "    continuous_update=False,\n",
    "    orientation='horizontal',\n",
    "    readout=True,\n",
    "    readout_format='.1f',\n",
    ")\n",
    "\n",
    "coord21 = widgets.FloatSlider(\n",
    "    value=7.5,\n",
    "    min=0,\n",
    "    max=10.0,\n",
    "    step=0.1,\n",
    "    description='Y1 :',\n",
    "    disabled=False,\n",
    "    continuous_update=False,\n",
    "    orientation='horizontal',\n",
    "    readout=True,\n",
    "    readout_format='.1f',\n",
    ")\n",
    "\n",
    "coord22 = widgets.FloatSlider(\n",
    "    value=7.5,\n",
    "    min=0,\n",
    "    max=10.0,\n",
    "    step=0.1,\n",
    "    description='Y2 :',\n",
    "    disabled=False,\n",
    "    continuous_update=False,\n",
    "    orientation='horizontal',\n",
    "    readout=True,\n",
    "    readout_format='.1f',\n",
    ")\n",
    "\n",
    "coord31 = widgets.FloatSlider(\n",
    "    value=7.5,\n",
    "    min=0,\n",
    "    max=10.0,\n",
    "    step=0.1,\n",
    "    description='Z1 :',\n",
    "    disabled=False,\n",
    "    continuous_update=False,\n",
    "    orientation='horizontal',\n",
    "    readout=True,\n",
    "    readout_format='.1f',\n",
    ")\n",
    "\n",
    "coord32 = widgets.FloatSlider(\n",
    "    value=7.5,\n",
    "    min=0,\n",
    "    max=10.0,\n",
    "    step=0.1,\n",
    "    description='Z2 :',\n",
    "    disabled=False,\n",
    "    continuous_update=False,\n",
    "    orientation='horizontal',\n",
    "    readout=True,\n",
    "    readout_format='.1f',\n",
    ")\n",
    "\n",
    "widgets.interactive(g, repere=repere_choice, direction=direction_choice, coord11=coord11, coord12=coord12,\n",
    "                    coord21=coord21, coord22=coord22, coord31=coord31, coord32=coord32)"
   ]
  },
  {
   "cell_type": "code",
   "execution_count": 7,
   "metadata": {},
   "outputs": [
    {
     "name": "stdout",
     "output_type": "stream",
     "text": [
      "Les coordonées cartésiennes du point 1 sont :\n",
      "7.5 7.5 7.5\n",
      "Les coordonnées cartésiennes du point 2 sont :\n",
      "7.5 7.5 7.5\n"
     ]
    }
   ],
   "source": [
    "# Print the values of coordinates according to the repere chosen\n",
    "if repere_choice.value == 'Cartésien':\n",
    "    print('Les coordonées cartésiennes du point 1 sont :')\n",
    "    print(coord11.value,coord21.value,coord31.value)\n",
    "    print('Les coordonnées cartésiennes du point 2 sont :')\n",
    "    print(coord12.value,coord22.value,coord32.value)\n",
    "\n",
    "elif repere_choice.value == 'Cylindrique':\n",
    "    r1, theta1 = cart2pol(coord11.value,coord21.value)\n",
    "    r2, theta2 = cart2pol(coord12.value,coord22.value)\n",
    "    print('Les coordonées cylindriques du point 1 sont :')\n",
    "    print(r1,theta1,coord31.value)\n",
    "    print('Les coordonnées cylindriques du point 2 sont :')\n",
    "    print(r2,theta2,coord32.value)\n",
    "\n",
    "else :\n",
    "    az1, el1, r1 = cart2sph(coord11.value,coord21.value,coord31.value)\n",
    "    az2, el2, r2 = cart2sph(coord12.value,coord22.value,coord32.value)\n",
    "    print('Les coordonées sphériques du point 1 sont :')\n",
    "    print(az1, el1, r1)\n",
    "    print('Les coordonnées sphériques du point 2 sont :')\n",
    "    print(az2, el2, r2)"
   ]
  },
  {
   "cell_type": "code",
   "execution_count": null,
   "metadata": {},
   "outputs": [],
   "source": []
  }
 ],
 "metadata": {
  "kernelspec": {
   "display_name": "Python 3",
   "language": "python",
   "name": "python3"
  },
  "language_info": {
   "codemirror_mode": {
    "name": "ipython",
    "version": 3
   },
   "file_extension": ".py",
   "mimetype": "text/x-python",
   "name": "python",
   "nbconvert_exporter": "python",
   "pygments_lexer": "ipython3",
   "version": "3.8.3"
  }
 },
 "nbformat": 4,
 "nbformat_minor": 4
}
